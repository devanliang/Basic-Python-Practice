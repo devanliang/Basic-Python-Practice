{
 "cells": [
  {
   "cell_type": "markdown",
   "metadata": {},
   "source": [
    "### 1.\t函數的練習-power\n",
    "寫一函數power(x, n)用來計算x的n次方。\n",
    "說明：power(5,3)即計算53。"
   ]
  },
  {
   "cell_type": "code",
   "execution_count": 2,
   "metadata": {},
   "outputs": [
    {
     "name": "stdout",
     "output_type": "stream",
     "text": [
      "125\n"
     ]
    }
   ],
   "source": [
    "def power(x, n):\n",
    "    z = x ** n\n",
    "    return z\n",
    "\n",
    "def main():\n",
    "    print(power(5, 3))\n",
    "    \n",
    "main()"
   ]
  },
  {
   "cell_type": "markdown",
   "metadata": {},
   "source": [
    "### 2.寫一函數my_fun (x, n)如下：\n",
    " \n",
    "提示：利用上題的power(x,n)和課堂上的factorial(n)來完成。\n",
    "\t函數的練習-sigma\n",
    "寫一函數power(x, n)用來計算x的n次方。\n",
    "說明：power(5,3)即計算53。"
   ]
  },
  {
   "cell_type": "code",
   "execution_count": 1,
   "metadata": {},
   "outputs": [
    {
     "name": "stdout",
     "output_type": "stream",
     "text": [
      "4.5\n"
     ]
    }
   ],
   "source": [
    "def power(x, n):\n",
    "    z = x ** n\n",
    "    return z\n",
    "\n",
    "def factorial(x):\n",
    "    result = 1\n",
    "    for i in range(x, 0, -1):\n",
    "        result *= i\n",
    "    return result\n",
    "\n",
    "def my_fun(x, n):\n",
    "    z = power(x, n)/ factorial(n)\n",
    "    return z\n",
    "\n",
    "def main():\n",
    "    print(my_fun(3, 2))\n",
    "    \n",
    "main()    "
   ]
  },
  {
   "cell_type": "markdown",
   "metadata": {},
   "source": [
    "### 3.\t函數的練習-isPrime\n",
    "寫一函數isPrime(n)用來判斷n是否為質數。"
   ]
  },
  {
   "cell_type": "code",
   "execution_count": 22,
   "metadata": {},
   "outputs": [
    {
     "name": "stdout",
     "output_type": "stream",
     "text": [
      "number:11\n",
      "prime\n"
     ]
    }
   ],
   "source": [
    "def isprime(n):\n",
    "    for i in range(2, n):\n",
    "        if n % i == 0:                \n",
    "            return \"non_prime\"\n",
    "            break\n",
    "    else:\n",
    "        return \"prime\"\n",
    "    \n",
    "def main():\n",
    "    n = eval(input(\"number:\"))\n",
    "    print(isprime(n))\n",
    "    \n",
    "main()            "
   ]
  },
  {
   "cell_type": "markdown",
   "metadata": {},
   "source": [
    "### 4.\t函數的練習-prime\n",
    "寫一函數prime (n)用來找出第n個質數。"
   ]
  },
  {
   "cell_type": "code",
   "execution_count": 39,
   "metadata": {},
   "outputs": [
    {
     "name": "stdout",
     "output_type": "stream",
     "text": [
      "71\n"
     ]
    }
   ],
   "source": [
    "def is_prime(n):\n",
    "    for i in range(2, n):\n",
    "        if n % i == 0:  # 整除，i 是 n 的因數，所以 n 不是質數。\n",
    "            return False\n",
    "    return True     # 都沒有人能整除，所以 n 是質數。\n",
    "\n",
    "\n",
    "def f_n_prime(x):\n",
    "    c = 1\n",
    "    while x > 0:\n",
    "        c = c+1\n",
    "        if is_prime(c): # True 的狀況下  x 才會 -1\n",
    "            x = x-1\n",
    "    return c\n",
    "\n",
    "print(f_n_prime(20))"
   ]
  },
  {
   "cell_type": "markdown",
   "metadata": {},
   "source": [
    "### 5.\t函數的練習-mersennePrime\n",
    "寫一函數isMersennePrime(n)用來判斷n是否為Mersenne質數。撰寫一程式找出前5個Mersenne質數。\n",
    "提示：若質數滿足2P-1=n (p為正整數)，則n為Mersenne Prime。\n",
    "說明：當p=3時，23-1=7，故7為Mersenne Prime。"
   ]
  },
  {
   "cell_type": "code",
   "execution_count": null,
   "metadata": {},
   "outputs": [
    {
     "name": "stdout",
     "output_type": "stream",
     "text": [
      "3\n",
      "7\n",
      "31\n",
      "127\n"
     ]
    }
   ],
   "source": [
    "def is_prime(n):\n",
    "    for i in range(2, n):\n",
    "        if n % i == 0:  # 整除，i 是 n 的因數，所以 n 不是質數。\n",
    "            return False\n",
    "    return True     # 都沒有人能整除，所以 n 是質數。\n",
    "\n",
    "def merse(x):\n",
    "    s = 1\n",
    "    while x > 0:\n",
    "        s += 1                \n",
    "        if is_prime(s):\n",
    "            for i in range(1, s):\n",
    "                if is_prime(i):\n",
    "                    if s == 2**i-1:\n",
    "                        x -= 1\n",
    "                        print(\"Mersenne Primes:\", s, \"P:\", i)\n",
    "merse(5)                        "
   ]
  },
  {
   "cell_type": "markdown",
   "metadata": {},
   "source": [
    "### 6.\t遞迴函數的練習-factorialRecursive\n",
    "寫一遞迴函數factorial (n)用來計算1*2*3*…*n的值。\n",
    "提示：factorial (n) = n * factorial(n-1)，factorial(1)=1"
   ]
  },
  {
   "cell_type": "code",
   "execution_count": 74,
   "metadata": {},
   "outputs": [
    {
     "name": "stdout",
     "output_type": "stream",
     "text": [
      "input:4\n",
      "24\n"
     ]
    }
   ],
   "source": [
    "def factorial(n):\n",
    "    ans = 1\n",
    "    if n > 1:\n",
    "        ans = n * factorial(n-1) \n",
    "    elif n == 0:\n",
    "        return 0\n",
    "    return ans\n",
    "\n",
    "def main():\n",
    "    n = eval(input(\"input:\"))\n",
    "    print(factorial(n))\n",
    "    \n",
    "main()"
   ]
  },
  {
   "cell_type": "markdown",
   "metadata": {},
   "source": [
    "### 7.\t遞迴函數的練習-sumRecursive\n",
    "寫一遞迴函數sum (n)用來計算2+4+6…+2n的值。"
   ]
  },
  {
   "cell_type": "code",
   "execution_count": 78,
   "metadata": {},
   "outputs": [
    {
     "name": "stdout",
     "output_type": "stream",
     "text": [
      "Input num:1\n",
      "2\n"
     ]
    }
   ],
   "source": [
    "def sum_r(n):\n",
    "    a = 0\n",
    "    if n > 0:\n",
    "        a = n*2 + sum_r(n-1)    \n",
    "    return a\n",
    "\n",
    "def main():\n",
    "    n = eval(input(\"Input num:\"))\n",
    "    print(sum_r(n))\n",
    "    \n",
    "main()"
   ]
  },
  {
   "cell_type": "markdown",
   "metadata": {},
   "source": [
    "### 8.\t函數的練習-convert\n",
    "輸入一整數，寫兩個函數分別為toBinary(n)和toHexidecimal(n)用來將n轉換成二進制和十六進制的值。(勿使用任何現成的函數)"
   ]
  },
  {
   "cell_type": "code",
   "execution_count": 88,
   "metadata": {},
   "outputs": [
    {
     "name": "stdout",
     "output_type": "stream",
     "text": [
      "Input number:1234\n",
      "2進位: 10011010010 , 16進位: 4D2\n"
     ]
    }
   ],
   "source": [
    "# 2進位\n",
    "def f_b(n):\n",
    "    ans = \"\"\n",
    "    while n > 1:\n",
    "        ans = str(divmod(n, 2)[1]) + ans\n",
    "        n = divmod(n, 2)[0]\n",
    "    ans = str(divmod(n, 2)[1]) + ans \n",
    "    return ans\n",
    "\n",
    "# 16進位\n",
    "def f_h(n):\n",
    "    ans = \"\"\n",
    "    a = \"\"\n",
    "    while n > 15:\n",
    "        a = str(divmod(n, 16)[1])\n",
    "        if a == \"10\":\n",
    "            ans = \"A\" + ans\n",
    "        elif a == \"11\":\n",
    "            ans = \"B\" + ans\n",
    "        elif a == \"12\":\n",
    "            ans = \"C\" + ans\n",
    "        elif a == \"13\":\n",
    "            ans = \"D\" + ans\n",
    "        elif a == \"14\":\n",
    "            ans = \"E\" + ans\n",
    "        elif a == \"15\":\n",
    "            ans = \"F\" + ans\n",
    "        else:\n",
    "            ans = a + ans\n",
    "        n = divmod(n, 16)[0]\n",
    "    \n",
    "    else:\n",
    "        a = str(divmod(n, 16)[1])\n",
    "        if a == \"10\":\n",
    "            ans = \"A\" + ans\n",
    "        elif a == \"11\":\n",
    "            ans = \"B\" + ans\n",
    "        elif a == \"12\":\n",
    "            ans = \"C\" + ans\n",
    "        elif a == \"13\":\n",
    "            ans = \"D\" + ans\n",
    "        elif a == \"14\":\n",
    "            ans = \"E\" + ans\n",
    "        elif a == \"15\":\n",
    "            ans = \"F\" + ans\n",
    "        else:\n",
    "            ans = a + ans\n",
    "        \n",
    "        return ans\n",
    "    \n",
    "def main():\n",
    "    n = eval(input(\"Input number:\"))\n",
    "    print(\"2進位:\", f_b(n), \", 16進位:\", f_h(n))\n",
    "    \n",
    "main()"
   ]
  },
  {
   "cell_type": "code",
   "execution_count": 81,
   "metadata": {},
   "outputs": [
    {
     "data": {
      "text/plain": [
       "'4D2'"
      ]
     },
     "execution_count": 81,
     "metadata": {},
     "output_type": "execute_result"
    }
   ],
   "source": [
    "# 16 進位 simple 版,  用simbo 指定超過10數字\n",
    "\n",
    "def f_h(n):\n",
    "    ans = \"\"\n",
    "    simbo_h = [\"A\", \"B\", \"C\", \"D\", \"E\", \"F\"]\n",
    "    \n",
    "    while n > 15:\n",
    "        add = str(divmod(n, 16)[1])\n",
    "        if int(add) >= 10:\n",
    "            ans = simbo_h[int(add)-10] + ans\n",
    "        else:\n",
    "            ans = add + ans \n",
    "        n = divmod(n, 16)[0]\n",
    "    add = str(divmod(n, 16)[1])\n",
    "    if int(add) >= 10:\n",
    "        ans = simbo_h[int(add)-10] + ans\n",
    "    else:\n",
    "        ans = add + ans \n",
    "    return ans\n",
    "    \n",
    "    \n",
    "f_h(1234)"
   ]
  },
  {
   "cell_type": "markdown",
   "metadata": {},
   "source": [
    "### 9.\t遞迴函數的練習-convertRecursive\n",
    "輸入一整數，寫兩個函數分別為toBinary(n)和toHexidecimal(n)用來將n轉換成二進制和十六進制的值。(勿使用任何現成的函數)"
   ]
  },
  {
   "cell_type": "code",
   "execution_count": 2,
   "metadata": {},
   "outputs": [
    {
     "name": "stdout",
     "output_type": "stream",
     "text": [
      "input num:1234\n",
      "10011010010\n"
     ]
    }
   ],
   "source": [
    "# 2進位遞迴\n",
    "def bi(n):\n",
    "    result=\"\"\n",
    "    if n //2 ==0:    # 同 n < 2\n",
    "        result = str(divmod(n, 2)[1])\n",
    "        return result\n",
    "    else:\n",
    "        result = str(divmod(n, 2)[1]) \n",
    "        n = n // 2\n",
    "        return bi(n) + result\n",
    "\n",
    "def main():\n",
    "    n = eval(input(\"input num:\"))\n",
    "    print(bi(n))\n",
    "    \n",
    "main()"
   ]
  },
  {
   "cell_type": "code",
   "execution_count": 86,
   "metadata": {},
   "outputs": [
    {
     "name": "stdout",
     "output_type": "stream",
     "text": [
      "input num:1234\n",
      "4D2\n"
     ]
    }
   ],
   "source": [
    "# 16進位遞迴\n",
    "def hx(n):\n",
    "    result=\"\"\n",
    "    simbo = [\"A\", \"B\", \"C\", \"D\", \"E\", \"F\"]\n",
    "    if n //16 ==0:    # 同 n < 16\n",
    "        if divmod(n, 16)[1] >=10:\n",
    "            result = simbo[divmod(n, 16)[1]-10]\n",
    "        else:\n",
    "            result = str(divmod(n, 16)[1])\n",
    "        return result\n",
    "    else:\n",
    "        if divmod(n, 16)[1] >=10:\n",
    "            result = simbo[divmod(n, 16)[1]-10]\n",
    "        else:\n",
    "            result = str(divmod(n, 16)[1])\n",
    "        n = n // 16\n",
    "        return hx(n) + result\n",
    "\n",
    "def main():\n",
    "    n = eval(input(\"input num:\"))\n",
    "    print(hx(n))\n",
    "    \n",
    "main()"
   ]
  },
  {
   "cell_type": "code",
   "execution_count": null,
   "metadata": {},
   "outputs": [],
   "source": []
  }
 ],
 "metadata": {
  "kernelspec": {
   "display_name": "Python 3",
   "language": "python",
   "name": "python3"
  },
  "language_info": {
   "codemirror_mode": {
    "name": "ipython",
    "version": 3
   },
   "file_extension": ".py",
   "mimetype": "text/x-python",
   "name": "python",
   "nbconvert_exporter": "python",
   "pygments_lexer": "ipython3",
   "version": "3.7.0"
  }
 },
 "nbformat": 4,
 "nbformat_minor": 2
}
