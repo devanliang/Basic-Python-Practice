{
 "cells": [
  {
   "cell_type": "markdown",
   "metadata": {},
   "source": [
    "### 1.\t綜合的練習-checkID\n",
    "寫一函數isID (ID)用來判斷ID是否為正確身份証字號。"
   ]
  },
  {
   "cell_type": "code",
   "execution_count": 2,
   "metadata": {},
   "outputs": [
    {
     "name": "stdout",
     "output_type": "stream",
     "text": [
      "Input ID:A123456789\n",
      "輸入正確\n"
     ]
    }
   ],
   "source": [
    "def cun_num(n):\n",
    "    list1 = [\"A\",\"B\",\"C\",\"D\",\"E\",\"F\",\"G\",\"H\",\"I\",\"J\",\"K\",\"L\",\"M\",\"N\",\"O\",\"P\",\"Q\",\"R\",\"S\",\"T\",\"U\",\"V\",\"W\",\"X\",\"Y\",\"Z\"]\n",
    "    list2 = [10, 11, 12, 13, 14, 15, 16, 17, 34, 18, 19, 20, 21, 22, 35, 23, 24, 25, 26, 27, 28, 29, 32, 30, 31, 33]\n",
    "    return list2[list1.index(n)]\n",
    "\n",
    "def check_id(id):\n",
    "    total = 0\n",
    "    if id[0].isupper():\n",
    "\n",
    "        if id[1:11].isdigit():\n",
    "\n",
    "            if len(id) == 10:\n",
    "\n",
    "                if id[1] == \"1\" or id[1] ==  \"2\":\n",
    "\n",
    "                    for i in range(8):\n",
    "                        total += int(id[i+1]) * (8 - i) # 後8位數\n",
    "                    total = total + cun_num(id[0]) // 10 + cun_num(id[0]) % 10 * 9 # 英文字\n",
    "                    mod_total = total % 10\n",
    "                    check = 10 - mod_total\n",
    "\n",
    "                    if int(id[9]) == check:\n",
    "                        print(\"輸入正確\")\n",
    "\n",
    "                    else:\n",
    "                        print(\"檢查碼錯誤\")\n",
    "                else:\n",
    "                    print(\"性別錯誤\")\n",
    "            else:\n",
    "                print(\"字元數錯誤\")\n",
    "        else:\n",
    "            print(\"數字錯誤\")\n",
    "    else:\n",
    "        print(\"字母錯誤!\")\n",
    "\n",
    "def main():\n",
    "    id = str(input(\"Input ID:\"))\n",
    "    return check_id(id)\n",
    "\n",
    "main()"
   ]
  },
  {
   "cell_type": "code",
   "execution_count": 109,
   "metadata": {},
   "outputs": [
    {
     "name": "stdout",
     "output_type": "stream",
     "text": [
      "Input ID:A123456789\n",
      "8\n",
      "22\n",
      "40\n",
      "60\n",
      "80\n",
      "98\n",
      "112\n",
      "120\n",
      "121\n",
      "1\n",
      "9\n",
      "輸入正確\n"
     ]
    }
   ],
   "source": [
    "# 判斷條件: 1. 10個字元  2. 第一個是大寫字母 後九個是數字  3. 第一個數字只能是1 or 2  4.最後一碼是檢查碼 \n",
    "'''\n",
    "1. 先依照上表將英文字母代號換為數碼。\n",
    "2. 由左至右，第一位乘一，第二位乘九， 第三位乘八， 第四位乘七．．．．．．． 最後一位乘一。\n",
    "3. 將所乘之積相加。\n",
    "4. 將上式所得之合除以十求得餘數。\n",
    "5. 以十減去上式所得餘數即為檢查碼。'''\n",
    "\n",
    "def cun_num(n):\n",
    "    list1 = [\"A\",\"B\",\"C\",\"D\",\"E\",\"F\",\"G\",\"H\",\"I\",\"J\",\"K\",\"L\",\"M\",\"N\",\"O\",\"P\",\"Q\",\"R\",\"S\",\"T\",\"U\",\"V\",\"W\",\"X\",\"Y\",\"Z\"]\n",
    "    list2 = [10, 11, 12, 13, 14, 15, 16, 17, 34, 18, 19, 20, 21, 22, 35, 23, 24, 25, 26, 27, 28, 29, 32, 30, 31, 33]\n",
    "    return list2[list1.index(n)]\n",
    "\n",
    "total = 0\n",
    "id = str(input(\"Input ID:\"))\n",
    "if id[0].isupper():\n",
    "    \n",
    "    if id[1:11].isdigit():\n",
    "        \n",
    "        if len(id) == 10:\n",
    "            \n",
    "            if id[1] == \"1\" or id[1] ==  \"2\":\n",
    "                \n",
    "                for i in range(8):\n",
    "                    total += int(id[i+1]) * (8 - i) # 後8位數\n",
    "                total = total + cun_num(id[0]) // 10 + cun_num(id[0]) % 10 * 9 # 英文字\n",
    "                mod_total = total % 10\n",
    "                check = 10 - mod_total\n",
    "                \n",
    "                if int(id[9]) == check:\n",
    "                    print(\"輸入正確\")\n",
    "\n",
    "                else:\n",
    "                    print(\"檢查碼錯誤\")\n",
    "            else:\n",
    "                print(\"性別錯誤\")\n",
    "        else:\n",
    "            print(\"字元數錯誤\")\n",
    "    else:\n",
    "        print(\"數字錯誤\")\n",
    "else:\n",
    "    print(\"字母錯誤!\")"
   ]
  },
  {
   "cell_type": "code",
   "execution_count": 96,
   "metadata": {},
   "outputs": [
    {
     "name": "stdout",
     "output_type": "stream",
     "text": [
      "8\n",
      "22\n",
      "40\n",
      "60\n",
      "80\n",
      "98\n",
      "112\n",
      "120\n",
      "120\n",
      "121\n",
      "1\n",
      "9\n"
     ]
    }
   ],
   "source": [
    "def cun_num(n):\n",
    "    list1 = [\"A\",\"B\",\"C\",\"D\",\"E\",\"F\",\"G\",\"H\",\"I\",\"J\",\"K\",\"L\",\"M\",\"N\",\"O\",\"P\",\"Q\",\"R\",\"S\",\"T\",\"U\",\"V\",\"W\",\"X\",\"Y\",\"Z\"]\n",
    "    list2 = [10, 11, 12, 13, 14, 15, 16, 17, 34, 18, 19, 20, 21, 22, 35, 23, 24, 25, 26, 27, 28, 29, 32, 30, 31, 33]\n",
    "    return list2[list1.index(n)]\n",
    "\n",
    "id = \"A123456789\"\n",
    "total = 0\n",
    "\n",
    "for i in range(8):\n",
    "    total += int(id[i+1]) * (8 - i)\n",
    "    print(total)\n",
    "print(total)   \n",
    "total = total + cun_num(id[0]) // 10 + cun_num(id[0]) % 10 * 9\n",
    "print(total)   \n",
    "\n",
    "mod_total = total % 10\n",
    "print(mod_total)\n",
    "check = 10 - mod_total\n",
    "print(check)"
   ]
  },
  {
   "cell_type": "code",
   "execution_count": 94,
   "metadata": {},
   "outputs": [
    {
     "name": "stdout",
     "output_type": "stream",
     "text": [
      "39\n"
     ]
    }
   ],
   "source": [
    "def cun_num(n):\n",
    "    list1 = [\"A\",\"B\",\"C\",\"D\",\"E\",\"F\",\"G\",\"H\",\"I\",\"J\",\"K\",\"L\",\"M\",\"N\",\"O\",\"P\",\"Q\",\"R\",\"S\",\"T\",\"U\",\"V\",\"W\",\"X\",\"Y\",\"Z\"]\n",
    "    list2 = [10, 11, 12, 13, 14, 15, 16, 17, 34, 18, 19, 20, 21, 22, 35, 23, 24, 25, 26, 27, 28, 29, 32, 30, 31, 33]\n",
    "    return list2[list1.index(n)]\n",
    "\n",
    "id = \"I123456789\"\n",
    "print(cun_num(id[0]) // 10 + cun_num(id[0]) % 10 * 9) "
   ]
  },
  {
   "cell_type": "markdown",
   "metadata": {},
   "source": [
    "### 2.\t綜合的練習-idGenerator\n",
    "輸入地區和性別，經由亂數產生一個身份証字號。"
   ]
  },
  {
   "cell_type": "code",
   "execution_count": 65,
   "metadata": {},
   "outputs": [
    {
     "name": "stdout",
     "output_type": "stream",
     "text": [
      "input county:台南市\n",
      "input gender 男/女:女\n",
      "ID: D273550743\n"
     ]
    }
   ],
   "source": [
    "import random\n",
    "list3 = [\"台北市\", \"台中市\", \"基隆市\" ,\"台南市\", \"高雄市\", \"台北縣\", \"宜蘭縣\", \"桃園縣\", \"嘉義市\", \"新竹縣\", \"苗栗縣\", \"台中縣\", \"南投縣\", \"彰化縣\", \"新竹市\", \"雲林縣\", \"嘉義縣\", \"台南縣\", \"高雄縣\", \"屏東縣\", \"花蓮縣\", \"台東縣\", \"金門縣\", \"澎湖縣\", \"陽明山\", \"連江縣\"]\n",
    "list1 = [\"A\",\"B\",\"C\",\"D\",\"E\",\"F\",\"G\",\"H\",\"I\",\"J\",\"K\",\"L\",\"M\",\"N\",\"O\",\"P\",\"Q\",\"R\",\"S\",\"T\",\"U\",\"V\",\"W\",\"X\",\"Y\",\"Z\"]\n",
    "list2 = [10, 11, 12, 13, 14, 15, 16, 17, 34, 18, 19, 20, 21, 22, 35, 23, 24, 25, 26, 27, 28, 29, 32, 30, 31, 33]\n",
    "list4 = [\"男\", \"女\"]\n",
    "\n",
    "coun = input(\"input county:\")\n",
    "alp = list1[list3.index(coun)]\n",
    "alp_num = list2[list3.index(n)]\n",
    "gen = input(\"input gender 男/女:\")\n",
    "gen_num = list4.index(gen) + 1\n",
    "\n",
    "\n",
    "id1 = \"\"\n",
    "id1 += alp\n",
    "id1 += str(gen_num)\n",
    "\n",
    "for i in range(7):\n",
    "    id1 += str(random.randint(0, 9))\n",
    "    \n",
    "\n",
    "total = 0\n",
    "for i in range(8):\n",
    "    total += int(id1[i+1]) * (8 - i) # 1~8位數 乘 8~1\n",
    "total = total + alp_num // 10 + alp_num % 10 * 9 # 英文字 乘 1 及 9\n",
    "mod_total = total % 10\n",
    "check = (10 - mod_total) % 10\n",
    "id1 += str(check)\n",
    "print(\"ID:\", id1)   \n",
    "\n",
    "\n"
   ]
  },
  {
   "cell_type": "markdown",
   "metadata": {},
   "source": [
    "### 3.\t綜合練習-poker\n",
    "經由亂數發撲克牌(52張)，分為四組列印出來。"
   ]
  },
  {
   "cell_type": "code",
   "execution_count": 44,
   "metadata": {},
   "outputs": [
    {
     "name": "stdout",
     "output_type": "stream",
     "text": [
      "[26, 42, 40, 32, 22, 41, 39, 8, 7, 20, 0, 50, 17, 48, 3, 30, 14, 38, 47, 25, 35, 49, 23, 24, 1, 9, 6, 51, 18, 37, 13, 12, 36, 4, 5, 45, 16, 15, 43, 2, 34, 31, 19, 44, 46, 11, 21, 33, 10, 27, 28, 29]\n",
      "\n",
      "第 1 份\n",
      "('方塊', 'A'),('梅花', '4'),('梅花', '2'),('方塊', '7'),('紅心', '10'),('梅花', '3'),('梅花', 'A'),('黑桃', '9'),('黑桃', '8'),('紅心', '8'),('黑桃', 'A'),('梅花', 'Q'),('紅心', '5'),\n",
      "第 2 份\n",
      "('梅花', '10'),('黑桃', '4'),('方塊', '5'),('紅心', '2'),('方塊', 'K'),('梅花', '9'),('紅心', 'K'),('方塊', '10'),('梅花', 'J'),('紅心', 'J'),('紅心', 'Q'),('黑桃', '2'),('黑桃', '10'),\n",
      "第 3 份\n",
      "('黑桃', '7'),('梅花', 'K'),('紅心', '6'),('方塊', 'Q'),('紅心', 'A'),('黑桃', 'K'),('方塊', 'J'),('黑桃', '5'),('黑桃', '6'),('梅花', '7'),('紅心', '4'),('紅心', '3'),('梅花', '5'),\n",
      "第 4 份\n",
      "('黑桃', '3'),('方塊', '9'),('方塊', '6'),('紅心', '7'),('梅花', '6'),('梅花', '8'),('黑桃', 'Q'),('紅心', '9'),('方塊', '8'),('黑桃', 'J'),('方塊', '2'),('方塊', '3'),('方塊', '4'),"
     ]
    }
   ],
   "source": [
    "# 1~52\n",
    "ls1 = []\n",
    "for i in range(52):\n",
    "    ls1.append(i)\n",
    "\n",
    "import random\n",
    "\n",
    "card_num = []\n",
    "\n",
    "# 1~52亂數抽\n",
    "while len(card_num) < 52:\n",
    "    pick = random.randint(0, 51)\n",
    "    \n",
    "    if pick not in card_num:\n",
    "        card_num.append(pick)\n",
    "    \n",
    "print(card_num)\n",
    "\n",
    "# 一副牌\n",
    "ls_color = [\"黑桃\", \"紅心\", \"方塊\", \"梅花\"]\n",
    "JQK = [\"A\", \"2\", \"3\", \"4\", \"5\", \"6\", \"7\", \"8\", \"9\", \"10\", \"J\", \"Q\", \"K\"]\n",
    "deck = []\n",
    "for color in range(4):\n",
    "    for num in range(13):\n",
    "        card = (ls_color[color], JQK[num])\n",
    "        deck.append(card)\n",
    "        \n",
    "# 發四份\n",
    "for i in range(4):\n",
    "    print(\"\\n第\", i+1, \"份\")\n",
    "    for j in range(i*13, (i+1)*13):\n",
    "        print(deck[card_num[j]], end = \",\")\n",
    "    "
   ]
  },
  {
   "cell_type": "markdown",
   "metadata": {},
   "source": [
    "### 4.\t日期的練習-MyCalendar\n",
    "輸入一個正整數，列印出那一年的年曆。\n",
    "輸入兩個整數，第一個數字代表那一年，第二個數字代表那一月，列印出那一年那一月的月曆。"
   ]
  },
  {
   "cell_type": "markdown",
   "metadata": {},
   "source": [
    "### 公式中的符号含义如下，w：星期；c：世纪-1；y：年（两位数）；m：月（m大于等于3，小于等于14，即在蔡勒公式中，某年的1、2月要看作上一年的13、14月来计算，比如2003年1月1日要看作2002年的13月1日来计算）；d：日；[ ]代表取整，即只要整数部分。(C是世纪数减一，y是年份后两位，M是月份，d是日数。1月和2月要按上一年的13月和 14月来算，这时C和y均按上一年取值。)算出来的W除以7，余数是几就是星期几。如果余数是0，则为星期日。\n",
    "\n",
    "\n"
   ]
  },
  {
   "cell_type": "code",
   "execution_count": 196,
   "metadata": {},
   "outputs": [
    {
     "name": "stdout",
     "output_type": "stream",
     "text": [
      "input year:2019\n",
      "input month:1\n",
      "                                       Jan\n",
      "   星期日      星期一      星期二      星期三      星期四      星期五      星期六   \n",
      "--------------------------------------------------------------------------------\n",
      "                             1           2           3           4           5      \n",
      "     6           7           8           9           10          11          12     \n",
      "     13          14          15          16          17          18          19     \n",
      "     20          21          22          23          24          25          26     \n",
      "     27          28          29          30          31     \n"
     ]
    }
   ],
   "source": [
    "weekdate = [\"星期日\", \"星期一\", \"星期二\", \"星期三\", \"星期四\", \"星期五\", \"星期六\"]\n",
    "mon = [\"Jan\", \"Feb\", \"Mar\", \"Apr\", \"May\", \"Jun\", \"Jul\", \"Aug\", \"Sep\", \"Oct\", \"Nov\", \"Dec\"]\n",
    "days_y = [31, 28, 31, 30, 31, 30, 31, 31, 30, 31, 30, 31]\n",
    "leap_days_y = [31, 29, 31, 30, 31, 30, 31, 31, 30, 31, 30, 31]\n",
    "\n",
    "year = eval(input(\"input year:\"))\n",
    "month = eval(input(\"input month:\"))\n",
    "day = 1\n",
    "\n",
    "\n",
    "print(\"%42s\" % (mon[month - 1]))\n",
    "for i in range(7):\n",
    "    print(\"{:^9s}\".format(weekdate[i]), end =\"\")\n",
    "print()\n",
    "print(\"--------------------------------------------------------------------------------\")\n",
    "\n",
    "\n",
    "# 日數\n",
    "\n",
    "if year % 4 == 0:\n",
    "    days = leap_days_y[month-1]\n",
    "else:\n",
    "    days = days_y[month-1]\n",
    "\n",
    "    \n",
    "# 年份判斷世紀\n",
    "if year % 100 == 0:\n",
    "    c = year / 100 - 1\n",
    "else:\n",
    "    c = year // 100 + 1 - 1\n",
    "\n",
    "# 一或二月\n",
    "if month == 1 or month == 2:\n",
    "    y = str(year -1)\n",
    "    m = month + 12\n",
    "    d = day\n",
    "    \n",
    "else:\n",
    "    y = str(year)\n",
    "    m = month\n",
    "    d = day\n",
    "    \n",
    "weeks = int((int(y[2:]) + (int(y[2:])/4) + (c/4) - 2*c + (26 * (m + 1) / 10) + d - 1) % 7) \n",
    "\n",
    "# 空幾格\n",
    "for i in range(weeks):\n",
    "    print(\"{:^12s}\" .format(\" \"), end = \"\")\n",
    "# 印第一行\n",
    "for j in range(7 - weeks):\n",
    "    print(\"{:^12d}\" .format(j+1), end = \"\")\n",
    "print()\n",
    "\n",
    "# 印後n行\n",
    "date1 = 7-weeks+1\n",
    "for x in range((days - (7 - weeks)) //7 +1 ):\n",
    "    for y in range(7):\n",
    "        if date1 <= days:\n",
    "            print(\"{:^12d}\" .format(date1), end = \"\")\n",
    "            date1 += 1\n",
    "    print()"
   ]
  },
  {
   "cell_type": "code",
   "execution_count": 156,
   "metadata": {},
   "outputs": [
    {
     "name": "stdout",
     "output_type": "stream",
     "text": [
      "2018 14 14 20\n",
      "4\n"
     ]
    }
   ],
   "source": [
    "year, month, day = 2019, 2, 14\n",
    "\n",
    "# 年份判斷世紀\n",
    "if year % 100 == 0:\n",
    "    c = year / 100 - 1\n",
    "else:\n",
    "    c = year // 100 + 1 - 1\n",
    "\n",
    "# \n",
    "if month == 1 or month == 2:\n",
    "    y = str(year -1)\n",
    "    m = month + 12\n",
    "    d = day\n",
    "    print(y, m, d, c)\n",
    "    \n",
    "\n",
    "else:\n",
    "    y = str(year)\n",
    "    m = month\n",
    "    d = day\n",
    "    \n",
    "weeks = int((int(y[2:]) + (int(y[2:])/4) + (c/4) - 2*c + (26 * (m + 1) / 10) + d - 1) % 7) \n",
    "print(weeks)"
   ]
  },
  {
   "cell_type": "code",
   "execution_count": 116,
   "metadata": {},
   "outputs": [
    {
     "name": "stdout",
     "output_type": "stream",
     "text": [
      "4.5\n"
     ]
    }
   ],
   "source": [
    "y = str(2018)\n",
    "m = 14\n",
    "d = 14\n",
    "c = 21 -1\n",
    "weeks = (int(y[2:]) + (int(y[2:])/4) + (c/4) - 2*c + (26 * (m + 1) / 10) + d - 1) % 7 \n",
    "print(weeks)"
   ]
  }
 ],
 "metadata": {
  "kernelspec": {
   "display_name": "Python 3",
   "language": "python",
   "name": "python3"
  },
  "language_info": {
   "codemirror_mode": {
    "name": "ipython",
    "version": 3
   },
   "file_extension": ".py",
   "mimetype": "text/x-python",
   "name": "python",
   "nbconvert_exporter": "python",
   "pygments_lexer": "ipython3",
   "version": "3.7.0"
  }
 },
 "nbformat": 4,
 "nbformat_minor": 2
}
