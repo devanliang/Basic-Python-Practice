{
 "cells": [
  {
   "cell_type": "markdown",
   "metadata": {},
   "source": [
    "### 1.\t繼承、多型與修飾子的練習-employee\n",
    "有一小公司，其人事薪資的制度如下：\n",
    "公司每個員工皆有姓名、性別、到職日、電話和住址等基本資料。\n",
    "一般職員只有本薪；一級主管則另有本薪、午餐津貼、交通津貼和職務加給；二級主管則有本薪、午餐津貼和職務加給。午餐津貼為1800元，交通津貼為2000元，職務加給一級主管為5000元，二級主管為3000元。\n",
    "每個員工皆有可能加班，加班費為本薪除以240乘以1.5倍再乘以加班時數。\n",
    "在main()中產生六個實例分別為一級主管、二級主管及一般職員且分有加班及無加班兩種(資料直接透過建構子hard code在程式中)，並列印其基本資料及當月薪資。"
   ]
  },
  {
   "cell_type": "code",
   "execution_count": 110,
   "metadata": {},
   "outputs": [
    {
     "name": "stdout",
     "output_type": "stream",
     "text": [
      "name:Tom gender:male hiredate:2019/02/19 phone:123 address:Taiwan \n",
      "level:1 basesalary:25000 overtime:20 totalpay:28125\n",
      "name:Marry gender:female hiredate:2019/01/01 phone:123 address:China \n",
      "level:3 basesalary:30000 overtime:100 totalpay:55550\n"
     ]
    }
   ],
   "source": [
    "class Salary:\n",
    "    def __init__(self, name, gender, hiredate, phone, address, level, basesalary, overtime):\n",
    "        self.name = name\n",
    "        self.gender = gender\n",
    "        self.hiredate = hiredate\n",
    "        self.phone = phone\n",
    "        self.address = address\n",
    "        self.level = level\n",
    "        self.basesalary = basesalary\n",
    "        self.overtime = overtime\n",
    "        self.totalpay = 0\n",
    "\n",
    "\n",
    "    def orginalpay(self):\n",
    "        if self.level == 1:\n",
    "            self.totalpay = self.basesalary\n",
    "        elif self.level == 2:\n",
    "            self.totalpay = self.basesalary + 1800 + 2000 + 5000\n",
    "        elif self.level == 3:\n",
    "            self.totalpay = self.basesalary + 1800 + 2000 + 3000\n",
    "            \n",
    "        \n",
    "\n",
    "    def overpay(self):\n",
    "        self.totalpay += int(self.basesalary / 240 * self.overtime * 1.5)\n",
    "        \n",
    "\n",
    "    def __str__(self):\n",
    "        return (\"name:{} gender:{} hiredate:{} phone:{} address:{} \\nlevel:{} basesalary:{} overtime:{} totalpay:{}\"\\\n",
    "                .format(self.name, self.gender, self.hiredate, self.phone, self.address, self.level, self.basesalary, self.overtime, self.totalpay))\n",
    "\n",
    "\n",
    "def main():\n",
    "    sal1 = Salary(\"Tom\", \"male\", \"2019/02/19\", \"123\", \"Taiwan\", 1, 25000, 20)\n",
    "    sal2 = Salary(\"Marry\", \"female\", \"2019/01/01\", \"123\", \"China\", 3, 30000, 100)\n",
    "    sal1.orginalpay()\n",
    "    sal1.overpay()\n",
    "    sal2.orginalpay()\n",
    "    sal2.overpay()\n",
    "    \n",
    "    print(sal1)\n",
    "    print(sal2)\n",
    "    \n",
    "\n",
    "main()"
   ]
  },
  {
   "cell_type": "code",
   "execution_count": 80,
   "metadata": {},
   "outputs": [
    {
     "name": "stdout",
     "output_type": "stream",
     "text": [
      "name:Tom gender:male hiredate:2019/02/19 phone:123 address:Taiwan \n",
      "level:1 basesalary:25000 overtime:20 totalpay:28125\n",
      "name:Marry gender:female hiredate:2019/01/01 phone:123 address:China \n",
      "level:3 basesalary:30000 overtime:100 totalpay:55550\n"
     ]
    }
   ],
   "source": [
    "class Salary:\n",
    "    def __init__(self, name, gender, hiredate, phone, address, level, basesalary, overtime):\n",
    "        self.name = name\n",
    "        self.gender = gender\n",
    "        self.hiredate = hiredate\n",
    "        self.phone = phone\n",
    "        self.address = address\n",
    "        self.level = level\n",
    "        self.basesalary = basesalary\n",
    "        self.overtime = overtime\n",
    "\n",
    "\n",
    "    def orginalpay(self):\n",
    "        if self.level == 1:\n",
    "            return self.totalpay\n",
    "        elif self.level == 2:\n",
    "            return self.basesalary + 1800 + 2000 + 5000\n",
    "        elif self.level == 3:\n",
    "            return self.basesalary + 1800 + 2000 + 3000\n",
    "        \n",
    "\n",
    "\n",
    "    def overpay(self):\n",
    "        return int(self.basesalary / 240 * self.overtime * 1.5)\n",
    "\n",
    "    def __str__(self):\n",
    "        return (\"name:{} gender:{} hiredate:{} phone:{} address:{} \\nlevel:{} basesalary:{} overtime:{} totalpay:{}\"\\\n",
    "                .format(self.name, self.gender, self.hiredate, self.phone, self.address, self.level, self.basesalary, self.overtime, self.orginalpay() + self.overpay() ))\n",
    "\n",
    "\n",
    "def main():\n",
    "    sal1 = Salary(\"Tom\", \"male\", \"2019/02/19\", \"123\", \"Taiwan\", 1, 25000, 20)\n",
    "    sal2 = Salary(\"Marry\", \"female\", \"2019/01/01\", \"123\", \"China\", 3, 30000, 100)\n",
    "    \n",
    "    print(sal1)\n",
    "    print(sal2)\n",
    "    \n",
    "\n",
    "main()"
   ]
  },
  {
   "cell_type": "code",
   "execution_count": 90,
   "metadata": {},
   "outputs": [
    {
     "name": "stdout",
     "output_type": "stream",
     "text": [
      "name:Tom gender:male hiredate:2019/02/19 phone:123 address:Taiwan \n",
      "level:1 basesalary:25000 overtime:20 totalpay:3125\n",
      "name:Marry gender:female hiredate:2019/01/01 phone:123 address:China \n",
      "level:3 basesalary:30000 overtime:100 totalpay:18750\n"
     ]
    }
   ],
   "source": [
    "class Salary:\n",
    "    def __init__(self, name, gender, hiredate, phone, address, level, basesalary, overtime):\n",
    "        self.name = name\n",
    "        self.gender = gender\n",
    "        self.hiredate = hiredate\n",
    "        self.phone = phone\n",
    "        self.address = address\n",
    "        self.level = level\n",
    "        self.basesalary = basesalary\n",
    "        self.overtime = overtime\n",
    "        self.totalpay = 0\n",
    "\n",
    "\n",
    "    def orginalpay(self):\n",
    "        if self.level == 1:\n",
    "            self.totalpay = self.basesalary\n",
    "            return self.totalpay\n",
    "        elif self.level == 2:\n",
    "            self.totalpay = self.basesalary + 1800 + 2000 + 5000\n",
    "            return self.totalpay\n",
    "        elif self.level == 3:\n",
    "            self.totalpay = self.basesalary + 1800 + 2000 + 3000\n",
    "            return self.totalpay\n",
    "        \n",
    "\n",
    "    def overpay(self):\n",
    "        self.totalpay += int(self.basesalary / 240 * self.overtime * 1.5)\n",
    "        return self.totalpay\n",
    "\n",
    "    def __str__(self):\n",
    "        return (\"name:{} gender:{} hiredate:{} phone:{} address:{} \\nlevel:{} basesalary:{} overtime:{} totalpay:{}\"\\\n",
    "                .format(self.name, self.gender, self.hiredate, self.phone, self.address, self.level, self.basesalary, self.overtime, self.overpay()))\n",
    "\n",
    "\n",
    "def main():\n",
    "    sal1 = Salary(\"Tom\", \"male\", \"2019/02/19\", \"123\", \"Taiwan\", 1, 25000, 20)\n",
    "    sal2 = Salary(\"Marry\", \"female\", \"2019/01/01\", \"123\", \"China\", 3, 30000, 100)\n",
    "    \n",
    "    print(sal1)\n",
    "    print(sal2)\n",
    "    \n",
    "\n",
    "main()"
   ]
  }
 ],
 "metadata": {
  "kernelspec": {
   "display_name": "Python 3",
   "language": "python",
   "name": "python3"
  },
  "language_info": {
   "codemirror_mode": {
    "name": "ipython",
    "version": 3
   },
   "file_extension": ".py",
   "mimetype": "text/x-python",
   "name": "python",
   "nbconvert_exporter": "python",
   "pygments_lexer": "ipython3",
   "version": "3.7.0"
  }
 },
 "nbformat": 4,
 "nbformat_minor": 2
}
