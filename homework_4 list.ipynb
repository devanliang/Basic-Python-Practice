{
 "cells": [
  {
   "cell_type": "markdown",
   "metadata": {},
   "source": [
    "### 1.\t一維串列的練習-maxMin\n",
    "事先將10個數字置於串列中，分別找出10個數字中最大的值和最小的值。\n",
    "(勿使用現成的函數)"
   ]
  },
  {
   "cell_type": "code",
   "execution_count": 26,
   "metadata": {},
   "outputs": [
    {
     "name": "stdout",
     "output_type": "stream",
     "text": [
      "88\n"
     ]
    }
   ],
   "source": [
    "# 最大值\n",
    "list1 = [11, 44, 55, 77, 33, 55, 77, 88, 22, 11]\n",
    "a = 0\n",
    "for i in list1:\n",
    "    if i > a:\n",
    "        a = i\n",
    "print(a)"
   ]
  },
  {
   "cell_type": "code",
   "execution_count": 29,
   "metadata": {},
   "outputs": [
    {
     "name": "stdout",
     "output_type": "stream",
     "text": [
      "11\n"
     ]
    }
   ],
   "source": [
    "# 最小值\n",
    "list1 = [11, 44, 55, 77, 33, 55, 77, 88, 22, 11]\n",
    "a = list1[0]\n",
    "for i in list1:\n",
    "    if i < a:\n",
    "        a = i\n",
    "print(a)"
   ]
  },
  {
   "cell_type": "markdown",
   "metadata": {},
   "source": [
    "### 2.\t函數與串列的練習-passList\n",
    "a~d各小題皆以一函數來處理：為練習串列的參數傳遞，陣列需定義為main()的區域變數，事先將12個數字置於一3 x 4的二維串列中，列印各函數的結果。\n",
    "a.\t計算所有數字的平均值\n",
    "b.\t找出12個數字中最大的值\n",
    "c.\t找出12個數字中最小的值\n",
    "d.\t計算每組內4個數字的平均值"
   ]
  },
  {
   "cell_type": "code",
   "execution_count": 33,
   "metadata": {},
   "outputs": [
    {
     "name": "stdout",
     "output_type": "stream",
     "text": [
      "[[13, 37, 29, 22], [43, 25, 24, 3], [3, 42, 6, 11]]\n"
     ]
    }
   ],
   "source": [
    "# 產生一組 3 x 4的二維串列\n",
    "import random\n",
    "list1 = []\n",
    "for r in range(3):\n",
    "    list1.append([])\n",
    "    for c in range(4):\n",
    "        list1[r].append(random.randint(1, 50))\n",
    "print(list1)"
   ]
  },
  {
   "cell_type": "code",
   "execution_count": 50,
   "metadata": {},
   "outputs": [
    {
     "name": "stdout",
     "output_type": "stream",
     "text": [
      "21\n"
     ]
    }
   ],
   "source": [
    "# 所有數字平均\n",
    "list1 = [[13, 37, 29, 22], [43, 25, 24, 3], [3, 42, 6, 11]]\n",
    "def avg(ls):\n",
    "    total = 0\n",
    "    for r in range(len(ls)):\n",
    "        for c in range(len(ls[0])):\n",
    "            total += ls[r][c]\n",
    "    avg = total // (len(ls)*len(ls[0]))\n",
    "    return avg\n",
    "\n",
    "def main():\n",
    "    print(avg(list1))\n",
    "                            \n",
    "main()"
   ]
  },
  {
   "cell_type": "code",
   "execution_count": 52,
   "metadata": {},
   "outputs": [
    {
     "name": "stdout",
     "output_type": "stream",
     "text": [
      "43\n"
     ]
    }
   ],
   "source": [
    "# 找出最大值\n",
    "list1 = [[13, 37, 29, 22], [43, 25, 24, 3], [3, 42, 6, 11]]\n",
    "\n",
    "def bigg(ls):\n",
    "    big = 0\n",
    "    for r in range(len(ls)):\n",
    "        for c in range(len(ls[0])):\n",
    "            if big < ls[r][c]:\n",
    "                big = ls[r][c]    \n",
    "    return big\n",
    "\n",
    "def main():\n",
    "    print(bigg(list1))\n",
    "    \n",
    "main()"
   ]
  },
  {
   "cell_type": "code",
   "execution_count": 53,
   "metadata": {},
   "outputs": [
    {
     "name": "stdout",
     "output_type": "stream",
     "text": [
      "3\n"
     ]
    }
   ],
   "source": [
    "# 找出最小值\n",
    "list1 = [[13, 37, 29, 22], [43, 25, 24, 3], [3, 42, 6, 11]]\n",
    "\n",
    "def small(ls):\n",
    "    small = ls[0][0]\n",
    "    for r in range(len(ls)):\n",
    "        for c in range(len(ls[0])):\n",
    "            if small > ls[r][c]:\n",
    "                small = ls[r][c]    \n",
    "    return small\n",
    "\n",
    "def main():\n",
    "    print(small(list1))\n",
    "    \n",
    "main()"
   ]
  },
  {
   "cell_type": "code",
   "execution_count": 54,
   "metadata": {},
   "outputs": [
    {
     "name": "stdout",
     "output_type": "stream",
     "text": [
      "row: 0 avg: 25\n"
     ]
    }
   ],
   "source": [
    "# 計算每組內4個數字的平均值\n",
    "list1 = [[13, 37, 29, 22], [43, 25, 24, 3], [3, 42, 6, 11]]\n",
    "\n",
    "def ravg(ls):\n",
    "    for r in range(len(ls)):\n",
    "        total = 0\n",
    "        for c in range(len(ls[r])):\n",
    "            total += ls[r][c]\n",
    "        avg = total // (len(ls[r]))\n",
    "        return r, avg\n",
    "    \n",
    "def main():\n",
    "    row, avg = ravg(list1)\n",
    "    print(\"row:\", row, \"avg:\", avg)\n",
    "    \n",
    "main()"
   ]
  },
  {
   "cell_type": "code",
   "execution_count": 53,
   "metadata": {},
   "outputs": [
    {
     "name": "stdout",
     "output_type": "stream",
     "text": [
      "0 25\n",
      "1 23\n",
      "2 15\n"
     ]
    }
   ],
   "source": [
    "list1 = [[13, 37, 29, 22], [43, 25, 24, 3], [3, 42, 6, 11]]\n",
    "for r in range(len(list1)):\n",
    "    total = 0\n",
    "    for c in range(len(list1[r])):\n",
    "        total += list1[r][c]\n",
    "    avg = total // (len(list1[r]))\n",
    "    print(r, avg)"
   ]
  },
  {
   "cell_type": "code",
   "execution_count": 5,
   "metadata": {},
   "outputs": [
    {
     "data": {
      "text/plain": [
       "array([25.25, 23.75, 15.5 ])"
      ]
     },
     "execution_count": 5,
     "metadata": {},
     "output_type": "execute_result"
    }
   ],
   "source": [
    "# 計算每組內4個數字的平均值(用numpy)\n",
    "list1 = [[13, 37, 29, 22], [43, 25, 24, 3], [3, 42, 6, 11]]\n",
    "\n",
    "import numpy as np\n",
    "\n",
    "def main():\n",
    "    return np.mean(list1, axis=1)\n",
    "\n",
    "main()"
   ]
  },
  {
   "cell_type": "markdown",
   "metadata": {},
   "source": [
    "### 3.\t二維串列的練習-sales\n",
    "某一公司有五種產品A、B、C、D與E，其單價分別為12、16、10、14與15元；而該公司共有三位銷售員，他們在某月份的銷售數量如下所示\n",
    "\n",
    "銷售員\t產品A\t產品B\t產品C\t產品D\t產品E\n",
    "Jean\t33\t32\t56\t45\t33\n",
    "Tom\t77\t33\t68\t45\t23\n",
    "Tina\t43\t55\t43\t67\t65\n",
    "試計算：\n",
    "a.\t每一個銷售員的銷售總金額\n",
    "b.\t有最好業績（銷售總金額最多者）的銷售員\n",
    "c.\t每一項產品的銷售總金額\n",
    "d.\t銷售總金額最多的產品"
   ]
  },
  {
   "cell_type": "code",
   "execution_count": 62,
   "metadata": {},
   "outputs": [
    {
     "name": "stdout",
     "output_type": "stream",
     "text": [
      "Jean 2593\n",
      "Tom 3107\n",
      "Tina 3739\n"
     ]
    }
   ],
   "source": [
    "# a.每一個銷售員的銷售總金額\n",
    "price = [12, 16, 10, 14, 15]\n",
    "vol = [[33, 32, 56, 45, 33], [77, 33, 68, 45, 23], [43, 55, 43, 67, 65]]\n",
    "name = [\"Jean\", \"Tom\", \"Tina\"]\n",
    "for i in range(len(vol)):\n",
    "    sales = name[i]\n",
    "    total = 0\n",
    "    for j in range(len(vol[0])):\n",
    "        total += price[j] * vol[i][j]\n",
    "    print(sales, total)"
   ]
  },
  {
   "cell_type": "code",
   "execution_count": 69,
   "metadata": {},
   "outputs": [
    {
     "name": "stdout",
     "output_type": "stream",
     "text": [
      "Tina 3739\n"
     ]
    }
   ],
   "source": [
    "# b.有最好業績（銷售總金額最多者）的銷售員\n",
    "price = [12, 16, 10, 14, 15]\n",
    "vol = [[33, 32, 56, 45, 33], [77, 33, 68, 45, 23], [43, 55, 43, 67, 65]]\n",
    "name = [\"Jean\", \"Tom\", \"Tina\"]\n",
    "top = 0\n",
    "for i in range(len(vol)):\n",
    "    sales = name[i]\n",
    "    total = 0\n",
    "    for j in range(len(vol[0])):\n",
    "        total += price[j] * vol[i][j]\n",
    "        if total > top:\n",
    "            top = total\n",
    "            top_s = sales\n",
    "print(top_s, top)"
   ]
  },
  {
   "cell_type": "code",
   "execution_count": 76,
   "metadata": {},
   "outputs": [
    {
     "name": "stdout",
     "output_type": "stream",
     "text": [
      "A 1836\n",
      "B 1920\n",
      "C 1670\n",
      "D 2198\n",
      "E 1815\n"
     ]
    }
   ],
   "source": [
    "# c.每一項產品的銷售總金額\n",
    "price = [12, 16, 10, 14, 15]\n",
    "vol = [[33, 32, 56, 45, 33], [77, 33, 68, 45, 23], [43, 55, 43, 67, 65]]\n",
    "prod = [\"A\", \"B\", \"C\", \"D\", \"E\"]\n",
    "\n",
    "for c in range(5):\n",
    "    total = 0\n",
    "    item = prod[c]\n",
    "    for r in range(3):\n",
    "        total += vol[r][c] * price[c]\n",
    "    print(item, total)        "
   ]
  },
  {
   "cell_type": "code",
   "execution_count": 79,
   "metadata": {},
   "outputs": [
    {
     "name": "stdout",
     "output_type": "stream",
     "text": [
      "D 2198\n"
     ]
    }
   ],
   "source": [
    "# d. 銷售總金額最多的產品\n",
    "price = [12, 16, 10, 14, 15]\n",
    "vol = [[33, 32, 56, 45, 33], [77, 33, 68, 45, 23], [43, 55, 43, 67, 65]]\n",
    "prod = [\"A\", \"B\", \"C\", \"D\", \"E\"]\n",
    "top = 0\n",
    "for c in range(5):\n",
    "    total = 0\n",
    "    item = prod[c]\n",
    "    for r in range(3):\n",
    "        total += vol[r][c] * price[c]\n",
    "        if total > top:\n",
    "            top = total\n",
    "            top_i = item\n",
    "print(top_i, top)       "
   ]
  },
  {
   "cell_type": "markdown",
   "metadata": {},
   "source": [
    "### 4.\t三維串列的練習-rain\n",
    "輸入一字串，字串為”all” 表示計算60個月的總平均降雨量，”year”、”season”和”month”分別表示計算某年、某季或某月的平均降雨量。若為後三者，再輸入一個正整數表示那一年、那一季或那一月。\n",
    "說明：5年12個月的降雨量以三維陣列形式事先給好60個浮點數\n",
    "需做誤錯處理：\n",
    "a.\t輸入除了”all”、”year”、”season”和”month”以外的字串\n",
    "b.\t若輸入”year”，而正整數輸入1至5以外的數字\n",
    "c.\t若輸入”season”，而正整數輸入1至4以外的數字\n",
    "d.\t若輸入”month”，而正整數輸入1至12以外的數字"
   ]
  },
  {
   "cell_type": "code",
   "execution_count": 83,
   "metadata": {},
   "outputs": [
    {
     "name": "stdout",
     "output_type": "stream",
     "text": [
      "[[[86.21, 189.05, 131.18], [2.95, 76.51, 68.31], [184.35, 43.01, 193.0], [86.97, 62.56, 78.45]], [[132.94, 30.19, 166.95], [176.78, 139.29, 66.09], [77.63, 1.77, 191.86], [85.04, 177.85, 51.12]], [[103.76, 99.13, 103.29], [107.23, 189.65, 21.52], [197.97, 1.94, 63.09], [43.05, 129.99, 178.37]], [[173.07, 124.46, 26.38], [89.73, 139.1, 176.63], [68.68, 30.15, 74.51], [3.64, 1.06, 138.2]], [[110.85, 43.16, 59.86], [52.55, 21.13, 42.18], [21.21, 143.7, 40.38], [179.16, 198.92, 96.0]]]\n"
     ]
    }
   ],
   "source": [
    "# 5年12個月的降雨量以三維陣列形式事先給好60個浮點數\n",
    "import random\n",
    "list1 = []\n",
    "for y in range(5):\n",
    "    list1.append([])\n",
    "    for s in range(4):\n",
    "        list1[y].append([])\n",
    "        for m in range(3):\n",
    "            list1[y][s].append(round(random.uniform(1, 200), 2))\n",
    "print(list1)"
   ]
  },
  {
   "cell_type": "code",
   "execution_count": 3,
   "metadata": {},
   "outputs": [
    {
     "name": "stdout",
     "output_type": "stream",
     "text": [
      "Input all, year, season, month:month\n",
      "year 1~5:1\n",
      "month 1~12:12\n",
      "year: 1 month: 12 avg.: 78.45\n"
     ]
    }
   ],
   "source": [
    "list1 = [[[86.21, 189.05, 131.18], [2.95, 76.51, 68.31], [184.35, 43.01, 193.0], [86.97, 62.56, 78.45]], [[132.94, 30.19, 166.95], [176.78, 139.29, 66.09], [77.63, 1.77, 191.86], [85.04, 177.85, 51.12]], [[103.76, 99.13, 103.29], [107.23, 189.65, 21.52], [197.97, 1.94, 63.09], [43.05, 129.99, 178.37]], [[173.07, 124.46, 26.38], [89.73, 139.1, 176.63], [68.68, 30.15, 74.51], [3.64, 1.06, 138.2]], [[110.85, 43.16, 59.86], [52.55, 21.13, 42.18], [21.21, 143.7, 40.38], [179.16, 198.92, 96.0]]]\n",
    "\n",
    "i1 = str(input(\"Input all, year, season, month:\"))\n",
    "\n",
    "while True:\n",
    "    if i1 == \"all\":\n",
    "        ALL = 0\n",
    "        for y in range(5):\n",
    "            for s in range(4):\n",
    "                for m in range(3):\n",
    "                    ALL += list1[y][s][m]\n",
    "                    avg = ALL/60\n",
    "        print(\"all avg.:\", \"%.2f\" %avg)\n",
    "        break\n",
    "\n",
    "    elif i1 == \"year\":\n",
    "        i2 = eval(input(\"year 1~5:\"))\n",
    "        ALL = 0\n",
    "        if i2 in [1, 2, 3, 4, 5]:\n",
    "            for s in range(4):\n",
    "                for m in range(3):\n",
    "                    ALL += list1[i2-1][s][m]\n",
    "                    avg = ALL/12\n",
    "            print(\"year:\",i2 , \"avg.:\", \"%.2f\" %avg)\n",
    "            break\n",
    "\n",
    "        else:\n",
    "            print(\"Error. Try again!\")\n",
    "            \n",
    "\n",
    "\n",
    "    elif i1 == \"season\":\n",
    "        i2 = eval(input(\"year 1~5:\"))\n",
    "        i3 = eval(input(\"season 1~4:\"))\n",
    "        ALL = 0\n",
    "        if i2 in [1, 2, 3, 4, 5] and i3 in [1, 2, 3, 4]:\n",
    "            for m in range(3):\n",
    "                ALL += list1[i2-1][i3-1][m]\n",
    "                avg = ALL/3\n",
    "            print(\"year:\",i2 ,\"season:\", i3, \"avg.:\", \"%.2f\" %avg)\n",
    "            break\n",
    "\n",
    "        else:\n",
    "            print(\"Error. Try again!\")\n",
    "            \n",
    "\n",
    "\n",
    "\n",
    "    elif i1 == \"month\":\n",
    "        i2 = eval(input(\"year 1~5:\"))\n",
    "        i4 = eval(input(\"month 1~12:\"))\n",
    "        if i2 in [1, 2, 3, 4, 5] and i4 in [1, 2, 3, 4, 5, 6, 7, 8, 9, 10, 11, 12]:\n",
    "            avg = list1[i2-1][(i4-1)//3][i4%3-1]\n",
    "            print(\"year:\", i2,\"month:\", i4,\"avg.:\", \"%.2f\" %avg)\n",
    "            break\n",
    "\n",
    "        else:\n",
    "            print(\"Error. Try again!\")\n",
    "            \n",
    "\n",
    "    else:\n",
    "        print(\"Error. Try again!\")\n",
    "        i1 = str(input(\"Input all, year, season, month:\"))"
   ]
  },
  {
   "cell_type": "code",
   "execution_count": 88,
   "metadata": {},
   "outputs": [
    {
     "name": "stdout",
     "output_type": "stream",
     "text": [
      "5793\n"
     ]
    }
   ],
   "source": [
    "list1 = [[[86.21, 189.05, 131.18], [2.95, 76.51, 68.31], [184.35, 43.01, 193.0], [86.97, 62.56, 78.45]], [[132.94, 30.19, 166.95], [176.78, 139.29, 66.09], [77.63, 1.77, 191.86], [85.04, 177.85, 51.12]], [[103.76, 99.13, 103.29], [107.23, 189.65, 21.52], [197.97, 1.94, 63.09], [43.05, 129.99, 178.37]], [[173.07, 124.46, 26.38], [89.73, 139.1, 176.63], [68.68, 30.15, 74.51], [3.64, 1.06, 138.2]], [[110.85, 43.16, 59.86], [52.55, 21.13, 42.18], [21.21, 143.7, 40.38], [179.16, 198.92, 96.0]]]\n",
    "\n",
    "# all \n",
    "ALL = 0\n",
    "for y in range(5):\n",
    "    for s in range(4):\n",
    "        for m in range(3):\n",
    "            ALL += list1[y][s][m]\n",
    "print(\"%.2d\" %ALL)\n",
    "            "
   ]
  }
 ],
 "metadata": {
  "kernelspec": {
   "display_name": "Python 3",
   "language": "python",
   "name": "python3"
  },
  "language_info": {
   "codemirror_mode": {
    "name": "ipython",
    "version": 3
   },
   "file_extension": ".py",
   "mimetype": "text/x-python",
   "name": "python",
   "nbconvert_exporter": "python",
   "pygments_lexer": "ipython3",
   "version": "3.7.0"
  }
 },
 "nbformat": 4,
 "nbformat_minor": 2
}
