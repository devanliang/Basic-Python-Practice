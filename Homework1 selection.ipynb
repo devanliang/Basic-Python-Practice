{
 "cells": [
  {
   "cell_type": "markdown",
   "metadata": {},
   "source": [
    "###  選擇性敘述的練習-season\n",
    "輸入月份1~12月，判斷相對應的季節春、夏、秋、冬並印出。若不在此範圍則印出”輸入錯誤”"
   ]
  },
  {
   "cell_type": "code",
   "execution_count": null,
   "metadata": {},
   "outputs": [
    {
     "name": "stdout",
     "output_type": "stream",
     "text": [
      "Please input month:1\n",
      "東\n"
     ]
    }
   ],
   "source": [
    "month = eval(input(\"Please input month:\"))\n",
    "if 1<= month <=12:\n",
    "    if 3 <= month <= 5:\n",
    "        print(\"春\")\n",
    "    elif 6 <= month <= 8:\n",
    "        print(\"夏\")\n",
    "    elif 9 <= month <= 11:\n",
    "        print(\"秋\")\n",
    "    else:\n",
    "        print(\"東\")\n",
    "else:\n",
    "    print(\"輸入錯誤\")"
   ]
  },
  {
   "cell_type": "markdown",
   "metadata": {},
   "source": [
    "### 選擇性敘述的練習-salary\n",
    "輸入便利商店工讀生的工作時數，並計算其薪資。\n",
    "60小時以內，時薪120元。\n",
    "61~80小時，以時薪1.25倍計算。\n",
    "81小時以上，以時薪1.5倍計算。\n",
    "說明：薪資以累計方式計算。若工時為90小時，則薪資為60*120 + 20*120*1.25 + 10*120*1.5元。"
   ]
  },
  {
   "cell_type": "code",
   "execution_count": 1,
   "metadata": {
    "scrolled": false
   },
   "outputs": [
    {
     "name": "stdout",
     "output_type": "stream",
     "text": [
      "Please input workhours:70\n",
      "$ 8700.0\n"
     ]
    }
   ],
   "source": [
    "hour = eval(input(\"Please input workhours:\"))\n",
    "if 61 <= hour <= 80:\n",
    "    print(\"$\", (hour-60)*120*1.25 + 60*120)\n",
    "if hour < 60:\n",
    "    print(\"$\", hour*120)\n",
    "if hour > 80:\n",
    "    print(\"$\", (hour-80)*120*1.5 + 20*120*1.25 + 60*120)"
   ]
  },
  {
   "cell_type": "code",
   "execution_count": 6,
   "metadata": {},
   "outputs": [
    {
     "name": "stdout",
     "output_type": "stream",
     "text": [
      "Please input workhours:70\n",
      "$ 8700.0\n"
     ]
    }
   ],
   "source": [
    "hour = eval(input(\"Please input workhours:\"))\n",
    "if hour <= 60:\n",
    "    print(\"$\", hour*120)\n",
    "elif hour <= 80:\n",
    "    print(\"$\", (hour-60)*120*1.25 + 60*120)\n",
    "else:\n",
    "    print(\"$\", (hour-80)*120*1.5 + 20*120*1.25 + 60*120)"
   ]
  },
  {
   "cell_type": "markdown",
   "metadata": {},
   "source": [
    "### 選擇性敘述的練習-electricity\n",
    "輸入何種用電和度數，計算出需繳之電費。\n",
    "電力公司使用累計方式來計算電費，分工業用電及家庭用電。\n",
    "                   \t   家庭用電        工業用電\n",
    "   240度(含)以下\t\t\t0.15元\t\t\t0.45元\n",
    "   240~540(含)度   \t\t0.25元\t\t\t0.45元\n",
    "   540度以上        \t0.45元\t\t\t0.45元\n"
   ]
  },
  {
   "cell_type": "code",
   "execution_count": 1,
   "metadata": {},
   "outputs": [
    {
     "name": "stdout",
     "output_type": "stream",
     "text": [
      "Please input dometic elec kwh:100\n",
      "Please input industial elec kwh:100\n",
      "應繳電費: 60.0\n"
     ]
    }
   ],
   "source": [
    "domekwh = eval(input(\"Please input dometic elec kwh:\"))\n",
    "indukwh = eval(input(\"Please input industial elec kwh:\"))\n",
    "if domekwh < 240:\n",
    "    domefee = domekwh * 0.15\n",
    "elif domekwh < 540:\n",
    "    domefee = domekwh * 0.25\n",
    "else:\n",
    "    domefee = domekwh * 0.45\n",
    "    \n",
    "if indukwh < 240:\n",
    "    indufee = indukwh * 0.45\n",
    "elif domekwh < 540:\n",
    "    indufee = indukwh * 0.45\n",
    "else:\n",
    "    indufee = indukwh * 0.45\n",
    "    \n",
    "print(\"應繳電費:\", domefee + indufee)"
   ]
  },
  {
   "cell_type": "code",
   "execution_count": 5,
   "metadata": {},
   "outputs": [
    {
     "name": "stdout",
     "output_type": "stream",
     "text": [
      "Please input electric type (domestic/industrial):domestic\n",
      "Please input kWh:600\n",
      "應繳電費: 270.0\n"
     ]
    }
   ],
   "source": [
    "electype = str(input(\"Please input electric type (domestic/industrial):\"))\n",
    "kwh = eval(input(\"Please input kWh:\"))\n",
    "if electype == \"domestic\":\n",
    "    if kwh < 240:\n",
    "        print(\"應繳電費:\", kwh*0.15)\n",
    "    elif kwh < 540:\n",
    "        print(\"應繳電費:\", kwh*0.25)\n",
    "    else:\n",
    "        print(\"應繳電費:\", kwh*0.45)   \n",
    "elif electype == \"industrial\":\n",
    "    print(\"應繳電費:\", kwh*0.45)\n",
    "else:\n",
    "    print(\"Unexpected Type\")"
   ]
  },
  {
   "cell_type": "markdown",
   "metadata": {},
   "source": [
    "### 選擇性敘述的練習-leapYear\n",
    "輸入一西元年，如2015。判斷此年份是否為閏年。\n",
    "提示：每四年一閏，每百年不閏，每四百年一閏，每四千年不閏。"
   ]
  },
  {
   "cell_type": "code",
   "execution_count": 69,
   "metadata": {},
   "outputs": [
    {
     "name": "stdout",
     "output_type": "stream",
     "text": [
      "Please input year: 16\n",
      "閏年\n"
     ]
    }
   ],
   "source": [
    "year = eval(input(\"Please input year: \"))\n",
    "if year % 4000 != 0:\n",
    "    if year % 400 != 0:\n",
    "        if year % 100 != 0:\n",
    "            if year % 4 == 0:\n",
    "                print(\"閏年\")\n",
    "            else:\n",
    "                print(\"不閏\")\n",
    "        else:\n",
    "            print(\"不閏\")\n",
    "    else:\n",
    "         print(\"閏年\")\n",
    "else:\n",
    "    print(\"不閏\")"
   ]
  },
  {
   "cell_type": "markdown",
   "metadata": {},
   "source": [
    "### 選擇性敘述的練習-refund\n",
    "輸入在某商店購物應付金額與實付金額。\n",
    "實付金額小於應付金額，則印出”金額不足”。\n",
    "實付金額等於應付金額，則印出”不必找錢”。\n",
    "實付金額大於應付金額，則輸出找回金額最少的鈔票數和錢幣數。\n",
    "假設幣值只有1000, 500, 100元紙鈔和50, 10, 5, 1元硬幣。\n",
    "說明：若買了132元的商品，付1000元，應找回一張500元，三張100元，一個50元硬幣，一個10元硬幣，一個5元硬幣和三個1元硬幣。"
   ]
  },
  {
   "cell_type": "code",
   "execution_count": 80,
   "metadata": {},
   "outputs": [
    {
     "name": "stdout",
     "output_type": "stream",
     "text": [
      "Please input payable: 12649\n",
      "Pleae input paid: 20000\n",
      "1000:7, 500:0, 100:3, 50:1, 10:0, 5:0, 1:1\n"
     ]
    }
   ],
   "source": [
    "payable = eval(input(\"Please input payable: \"))\n",
    "paid = eval(input(\"Pleae input paid: \"))\n",
    "if payable > paid:\n",
    "    print(\"金額不足\")\n",
    "elif payable == paid:\n",
    "    print(\"不必找錢\")\n",
    "else:\n",
    "    print(\"1000:{0}, 500:{1}, 100:{2}, 50:{3}, 10:{4}, 5:{5}, 1:{6}\" \n",
    "          .format((paid-payable)//1000,\n",
    "          (paid-payable)%1000//500,\n",
    "          (paid-payable)%1000%500//100,\n",
    "          (paid-payable)%1000%500%100//50,\n",
    "          (paid-payable)%1000%500%100%50//10,\n",
    "          (paid-payable)%1000%500%100%50%10//5,\n",
    "          (paid-payable)%1000%500%100%50%10%5//1))"
   ]
  },
  {
   "cell_type": "markdown",
   "metadata": {},
   "source": [
    "### 選擇性敘述的練習-equation\n",
    "一元二次方程式ax2+bx+c=0。輸入a, b, c三值，並計算方程式的根。\n",
    "b2-4ac > 0，有兩個不相等的實根。\n",
    "b2-4ac = 0，有兩個相等的實根。\n",
    "b2-4ac < 0，則印出”沒有實根”。"
   ]
  },
  {
   "cell_type": "code",
   "execution_count": 1,
   "metadata": {},
   "outputs": [],
   "source": [
    "import math"
   ]
  },
  {
   "cell_type": "code",
   "execution_count": 3,
   "metadata": {},
   "outputs": [
    {
     "name": "stdout",
     "output_type": "stream",
     "text": [
      "2.0\n"
     ]
    }
   ],
   "source": [
    "print(math.sqrt(4))"
   ]
  },
  {
   "cell_type": "code",
   "execution_count": 124,
   "metadata": {},
   "outputs": [
    {
     "name": "stdout",
     "output_type": "stream",
     "text": [
      "Please input a: 1\n",
      "Please input b: 2\n",
      "Please input c: 1\n",
      "-2.0, -2.0\n"
     ]
    }
   ],
   "source": [
    "a = eval(input(\"Please input a: \"))\n",
    "b = eval(input(\"Please input b: \"))\n",
    "c = eval(input(\"Please input c: \"))\n",
    "root = b**2 - 4*a*c\n",
    "\n",
    "if root > 0:\n",
    "    print(\"{0}, {1}\" .format(-b + math.sqrt(root)/ 2*a, -b - math.sqrt(root)/ 2*a))\n",
    "elif root == 0:\n",
    "    print(\"{0}, {1}\" .format(-b + math.sqrt(root)/ 2*a, -b - math.sqrt(root)/ 2*a))\n",
    "elif root < 0:\n",
    "    print(\"沒有實根\")"
   ]
  },
  {
   "cell_type": "code",
   "execution_count": null,
   "metadata": {},
   "outputs": [],
   "source": []
  }
 ],
 "metadata": {
  "kernelspec": {
   "display_name": "Python 3",
   "language": "python",
   "name": "python3"
  },
  "language_info": {
   "codemirror_mode": {
    "name": "ipython",
    "version": 3
   },
   "file_extension": ".py",
   "mimetype": "text/x-python",
   "name": "python",
   "nbconvert_exporter": "python",
   "pygments_lexer": "ipython3",
   "version": "3.7.0"
  }
 },
 "nbformat": 4,
 "nbformat_minor": 2
}
