{
 "cells": [
  {
   "cell_type": "markdown",
   "metadata": {},
   "source": [
    "### 1.\t迴圏的練習-expression\n",
    "利用for迴圏計算12-22+32-42+…+492-502的值。"
   ]
  },
  {
   "cell_type": "code",
   "execution_count": 29,
   "metadata": {},
   "outputs": [
    {
     "name": "stdout",
     "output_type": "stream",
     "text": [
      "-1275\n"
     ]
    }
   ],
   "source": [
    "total = 0\n",
    "odd = 0\n",
    "even = 0\n",
    "for i in range(1, 51):\n",
    "    if i % 2 != 0:\n",
    "        odd += i**2\n",
    "    else:\n",
    "        even -= i**2\n",
    "total = odd + even    \n",
    "print(total)"
   ]
  },
  {
   "cell_type": "markdown",
   "metadata": {},
   "source": [
    "### 2.\t迴圏的練習-factor\n",
    "輸入一正整數，求其所有的因數。\n",
    "說明：36的因數為1, 2, 3, 4, 6, 9, 12, 18, 36。"
   ]
  },
  {
   "cell_type": "code",
   "execution_count": 92,
   "metadata": {},
   "outputs": [
    {
     "name": "stdout",
     "output_type": "stream",
     "text": [
      "Please input number:24\n",
      "1\n",
      "2\n",
      "3\n",
      "4\n",
      "6\n",
      "8\n",
      "12\n",
      "24\n"
     ]
    }
   ],
   "source": [
    "num = int(input(\"Please input number:\"))\n",
    "n = 1\n",
    "while n <= num:\n",
    "    if num % n == 0:\n",
    "        print(n)\n",
    "    n += 1"
   ]
  },
  {
   "cell_type": "markdown",
   "metadata": {},
   "source": [
    "### 3.\t迴圏的練習-perfectNumber\n",
    "一個數字若等於其所有因數的總和，則此數為perfect number。\n",
    "找出100以內所有的完美數。\n",
    "說明：6的因數為1, 2, 3，6=1+2+3，故6為完美數。"
   ]
  },
  {
   "cell_type": "code",
   "execution_count": 26,
   "metadata": {},
   "outputs": [
    {
     "name": "stdout",
     "output_type": "stream",
     "text": [
      "6\n",
      "28\n"
     ]
    }
   ],
   "source": [
    "for i in range(1, 101):\n",
    "    n = 1\n",
    "    total = 0\n",
    "    while n < i:\n",
    "        if i % n == 0:\n",
    "            total += n                    \n",
    "        n += 1  \n",
    "    if i == total:\n",
    "        print(i)"
   ]
  },
  {
   "cell_type": "code",
   "execution_count": 25,
   "metadata": {},
   "outputs": [
    {
     "name": "stdout",
     "output_type": "stream",
     "text": [
      "Please input number:28\n",
      "因數: 1\n",
      "因數: 2\n",
      "因數: 4\n",
      "因數: 7\n",
      "因數: 14\n",
      "完美數\n"
     ]
    }
   ],
   "source": [
    "num = int(input(\"Please input number:\"))\n",
    "n = 1\n",
    "total = 0\n",
    "while n < num:\n",
    "    if num % n == 0: \n",
    "        print(\"因數:\",n)\n",
    "        total += n        \n",
    "    n += 1\n",
    "if num == total :\n",
    "    print (\"完美數\")"
   ]
  },
  {
   "cell_type": "markdown",
   "metadata": {},
   "source": [
    "### 4.\t迴圏的練習-amstrong\n",
    "Amstrong數是指一個三位數的整數，其各位數之立方和等於該數本身。\n",
    "找出所有的Amstrong數。\n",
    "說明：153=13+53+33，故153為Amstrong數。"
   ]
  },
  {
   "cell_type": "code",
   "execution_count": 97,
   "metadata": {},
   "outputs": [
    {
     "name": "stdout",
     "output_type": "stream",
     "text": [
      "1 5 3\n",
      "3 7 1\n"
     ]
    }
   ],
   "source": [
    "for i in range(1, 10):\n",
    "    for j in range(1, 10):\n",
    "        for k in range(1, 10):\n",
    "            if(i**3 + j**3 + k**3 == i*100 + j*10 + k):\n",
    "                print(i,j,k)"
   ]
  },
  {
   "cell_type": "markdown",
   "metadata": {},
   "source": [
    "### 5.\t迴圈的練習-prime\n",
    "輸入一正整數，找出所有小於或等於的質數。"
   ]
  },
  {
   "cell_type": "code",
   "execution_count": 45,
   "metadata": {},
   "outputs": [
    {
     "name": "stdout",
     "output_type": "stream",
     "text": [
      "Please input number:20\n",
      "2 is prime\n",
      "3 is prime\n",
      "5 is prime\n",
      "7 is prime\n",
      "11 is prime\n",
      "13 is prime\n",
      "17 is prime\n",
      "19 is prime\n"
     ]
    }
   ],
   "source": [
    "n=eval(input(\"Please input number:\"))\n",
    "for i in range(2,n):\n",
    "    for j in range(2,i):\n",
    "        if i%j == 0:            \n",
    "            break\n",
    "    else:\n",
    "        print(i, 'is prime')"
   ]
  },
  {
   "cell_type": "markdown",
   "metadata": {},
   "source": [
    "### 6.\t迴圏的練習-rope\n",
    "若有一條繩子長3000公尺，每天剪去一半的長度，需多少天繩子的長度會短於5公尺。"
   ]
  },
  {
   "cell_type": "code",
   "execution_count": 5,
   "metadata": {},
   "outputs": [
    {
     "name": "stdout",
     "output_type": "stream",
     "text": [
      "11\n"
     ]
    }
   ],
   "source": [
    "long = 3000\n",
    "day = 1\n",
    "while long > 5:\n",
    "    long /= 2\n",
    "    day += 1\n",
    "print(day)"
   ]
  },
  {
   "cell_type": "markdown",
   "metadata": {},
   "source": [
    "### 7.\t迴圏的練習-rabbit\n",
    "老王養了一群兔子，若三隻三隻一數，剩餘一隻；若五隻五隻一數，剩餘三隻；若七隻七隻一數，剩餘二隻。試問兔子最少有幾隻。"
   ]
  },
  {
   "cell_type": "code",
   "execution_count": 36,
   "metadata": {},
   "outputs": [
    {
     "name": "stdout",
     "output_type": "stream",
     "text": [
      "58\n"
     ]
    }
   ],
   "source": [
    "n = 1\n",
    "while True:\n",
    "    if n % 3 == 1 and n % 5 == 3 and n % 7 == 2:\n",
    "        print(n) \n",
    "        break\n",
    "    n += 1"
   ]
  },
  {
   "cell_type": "markdown",
   "metadata": {},
   "source": [
    "### 8.\t迴圏的練習-Password\n",
    "出現”請輸入密碼”的提示，使用者有最多三次輸入的機會。\n",
    "若輸入正確，則印出”密碼輸入正確，歡迎使用本系統！”。\n",
    "若輸入不正確，再次出現”請輸入密碼”的提示。\n",
    "若三次輸入不正確，則印出”密碼輸入超過三次！”，並結束程式的執行。"
   ]
  },
  {
   "cell_type": "code",
   "execution_count": 1,
   "metadata": {},
   "outputs": [
    {
     "name": "stdout",
     "output_type": "stream",
     "text": [
      "Please input password:111\n",
      "Please input password:222\n",
      "Please input password:333\n",
      "密碼輸入超過三次！\n"
     ]
    }
   ],
   "source": [
    "pw = int(input(\"Please input password:\"))\n",
    "rightpw = 123\n",
    "n = 1\n",
    "while True:\n",
    "    if pw == rightpw:\n",
    "        print(\"密碼輸入正確，歡迎使用本系統！\")\n",
    "        break           \n",
    "    elif n < 3:        \n",
    "        pw = int(input(\"Please input password:\"))                        \n",
    "    else:\n",
    "        print(\"密碼輸入超過三次！\") \n",
    "        break    \n",
    "    n += 1"
   ]
  },
  {
   "cell_type": "markdown",
   "metadata": {},
   "source": [
    "### 9.\t迴圈敘述的練習-stars\n",
    "畫出下列三種排列的星星圖形。"
   ]
  },
  {
   "cell_type": "code",
   "execution_count": 15,
   "metadata": {},
   "outputs": [
    {
     "name": "stdout",
     "output_type": "stream",
     "text": [
      "*\n",
      "**\n",
      "***\n",
      "****\n",
      "*****\n"
     ]
    }
   ],
   "source": [
    "for i in range(1,6):\n",
    "    print(\"{}\" .format(\"*\"  *i))"
   ]
  },
  {
   "cell_type": "code",
   "execution_count": 21,
   "metadata": {},
   "outputs": [
    {
     "name": "stdout",
     "output_type": "stream",
     "text": [
      "*****\n",
      " ****\n",
      "  ***\n",
      "   **\n",
      "    *\n"
     ]
    }
   ],
   "source": [
    "for i in range(5, 0, -1):\n",
    "    print(\"{0:>5s}\" .format(\"*\" *i))"
   ]
  },
  {
   "cell_type": "code",
   "execution_count": 2,
   "metadata": {},
   "outputs": [
    {
     "name": "stdout",
     "output_type": "stream",
     "text": [
      "    *  \n",
      "   *  *  \n",
      "  *  *  *  \n",
      " *  *  *  *  \n",
      "*  *  *  *  *  \n"
     ]
    }
   ],
   "source": [
    "for i in range(1,6):\n",
    "    for j in range(5 -i ):\n",
    "        print(\" \", end=\"\")\n",
    "    \n",
    "    for k in range(i):\n",
    "        print(\"*  \", end=\"\")\n",
    "        \n",
    "    print()    "
   ]
  },
  {
   "cell_type": "code",
   "execution_count": 30,
   "metadata": {},
   "outputs": [
    {
     "name": "stdout",
     "output_type": "stream",
     "text": [
      "     *    \n",
      "    * *   \n",
      "   * * *  \n",
      "  * * * * \n",
      " * * * * *\n"
     ]
    }
   ],
   "source": [
    "for i in range(1,6):\n",
    "    print(\"{0:^10s}\" .format(\" *\" *i))"
   ]
  },
  {
   "cell_type": "markdown",
   "metadata": {},
   "source": [
    "### 10.\t迴圈敘述的練習-nineNine\n",
    "印出下列九九乘法表："
   ]
  },
  {
   "cell_type": "code",
   "execution_count": 18,
   "metadata": {},
   "outputs": [
    {
     "name": "stdout",
     "output_type": "stream",
     "text": [
      "    |   1       2       3       4       5       6       7       8       9    \n",
      "--------------------------------------------------------------------------------\n",
      " 9  |   9       18      27      36      45      54      63      72      81   \n",
      " 8  |   8       16      24      32      40      48      56      64   \n",
      " 7  |   7       14      21      28      35      42      49   \n",
      " 6  |   6       12      18      24      30      36   \n",
      " 5  |   5       10      15      20      25   \n",
      " 4  |   4       8       12      16   \n",
      " 3  |   3       6       9    \n",
      " 2  |   2       4    \n",
      " 1  |   1    \n"
     ]
    }
   ],
   "source": [
    "print(\"    |\", end = \"\")\n",
    "for k in range(1, 10):\n",
    "    print(\"{:^8d}\".format(k), end =\"\")\n",
    "print()\n",
    "print(\"--------------------------------------------------------------------------------\")\n",
    "\n",
    "for i in range(9, 0, -1):\n",
    "    print(\"{:^4d}|\" .format(i), end = \"\")\n",
    "    for j in range(1, i+1):\n",
    "        print(\"{:^8d}\" .format(i * j), end= \"\")\n",
    "    print()\n"
   ]
  },
  {
   "cell_type": "markdown",
   "metadata": {},
   "source": [
    "### 11.\t迴圈敘述的練習-interest\n",
    "錢精打以10%單利投資100000元，郝細算則以5%複利投資100000元。計算多少年後郝細算的投資可以超過錢精打，並將此時兩人錢數印出。(27年後)\n",
    "提示：單利公式：P(1+r*n)    複利公式：P(1+r)n\n",
    "P：本金，r：利率，n：多少年"
   ]
  },
  {
   "cell_type": "code",
   "execution_count": 15,
   "metadata": {},
   "outputs": [
    {
     "name": "stdout",
     "output_type": "stream",
     "text": [
      "27 370000 373345\n"
     ]
    }
   ],
   "source": [
    "m = 100000\n",
    "n = 100000\n",
    "y = 1\n",
    "mm = 0\n",
    "nn = 0\n",
    "while mm >= nn:\n",
    "    mm = m+(m*0.1*y)\n",
    "    nn = n*(1.05)**y\n",
    "    y += 1    \n",
    "print(y-1, \"%i\" %mm, \"%i\" %nn)   "
   ]
  },
  {
   "cell_type": "code",
   "execution_count": 14,
   "metadata": {},
   "outputs": [
    {
     "name": "stdout",
     "output_type": "stream",
     "text": [
      "27 370000 373345\n"
     ]
    }
   ],
   "source": [
    "m = 100000\n",
    "n = 100000\n",
    "y = 1\n",
    "while True:\n",
    "    mm = m+(m*0.1*y)\n",
    "    nn = n*(1.05)**y\n",
    "    y += 1\n",
    "    if mm < nn:\n",
    "        break\n",
    "print(y-1, \"%i\" %mm, \"%i\" %nn)"
   ]
  },
  {
   "cell_type": "markdown",
   "metadata": {},
   "source": [
    "### 12.\t迴圈敘述的練習-loan"
   ]
  },
  {
   "cell_type": "markdown",
   "metadata": {},
   "source": [
    "### 每月該還 (非複利計算)\n",
    "錢不精以100000元分別向銀行、當鋪和地下錢莊借貸。若銀行的年利率為20%，當鋪月利率為10%和地下錢莊日利率為1%。以月為單位，計算一個月後至一年後每個月該歸還多少錢。"
   ]
  },
  {
   "cell_type": "code",
   "execution_count": 20,
   "metadata": {},
   "outputs": [
    {
     "name": "stdout",
     "output_type": "stream",
     "text": [
      "年利率1個月$10000.00 月利率1個月$18333.33 日利率1個月$38333.33\n",
      "年利率2個月$9861.11 月利率2個月$17500.00 日利率2個月$35833.33\n",
      "年利率3個月$9722.22 月利率3個月$16666.67 日利率3個月$33333.33\n",
      "年利率4個月$9583.33 月利率4個月$15833.33 日利率4個月$30833.33\n",
      "年利率5個月$9444.44 月利率5個月$15000.00 日利率5個月$28333.33\n",
      "年利率6個月$9305.56 月利率6個月$14166.67 日利率6個月$25833.33\n",
      "年利率7個月$9166.67 月利率7個月$13333.33 日利率7個月$23333.33\n",
      "年利率8個月$9027.78 月利率8個月$12500.00 日利率8個月$20833.33\n",
      "年利率9個月$8888.89 月利率9個月$11666.67 日利率9個月$18333.33\n",
      "年利率10個月$8750.00 月利率10個月$10833.33 日利率10個月$15833.33\n",
      "年利率11個月$8611.11 月利率11個月$10000.00 日利率11個月$13333.33\n",
      "年利率12個月$8472.22 月利率12個月$9166.67 日利率12個月$10833.33\n"
     ]
    }
   ],
   "source": [
    "yip = 100000\n",
    "yimp = 0\n",
    "mip = 100000\n",
    "mimp = 0\n",
    "dip = 100000\n",
    "dimp = 0\n",
    "for i in range(1, 13):\n",
    "    yimp = (yip*0.2/12) + yip/(12-i+1)\n",
    "    yip -= yip/(12- i + 1)\n",
    "    mimp = (mip*0.1) + mip/(12-i+1)\n",
    "    mip -= mip/(12-i+1)\n",
    "    dimp = (dip*0.01*30) + dip/(12-i+1)\n",
    "    dip -= dip /(12 -i +1)\n",
    "    print(\"年利率{0}個月${1:.2f}\" .format(i, yimp), end = \" \")\n",
    "    print(\"月利率{0}個月${1:.2f}\" .format(i, mimp), end = \" \")\n",
    "    print(\"日利率{0}個月${1:.2f}\" .format(i, dimp))"
   ]
  }
 ],
 "metadata": {
  "kernelspec": {
   "display_name": "Python 3",
   "language": "python",
   "name": "python3"
  },
  "language_info": {
   "codemirror_mode": {
    "name": "ipython",
    "version": 3
   },
   "file_extension": ".py",
   "mimetype": "text/x-python",
   "name": "python",
   "nbconvert_exporter": "python",
   "pygments_lexer": "ipython3",
   "version": "3.7.0"
  }
 },
 "nbformat": 4,
 "nbformat_minor": 2
}
